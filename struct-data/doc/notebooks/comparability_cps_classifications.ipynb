{
 "cells": [
  {
   "cell_type": "markdown",
   "metadata": {},
   "source": [
    "## Comparability of CPS Classifications over time\n",
    "\n",
    "Is there any guidance provided by the NLSY or the anyone else on how to ensure between the different CPS classifications in the NLSY dataset? Or do we simply have to assign occupations to white- and blue collar ourselves. Is there a well-published paper that thoroughly documents what they have done. \n",
    "\n",
    "Currently, I am simply relying on footnote 18 of Keane & Wolpin (1997) for the classification: \n",
    "\n",
    "> Occupational categories are based on one-digit census codes. Blue-collar occupations\n",
    "are (i) craftsmen, foremen, and kindred; (ii) operatives and kindred; (iii)\n",
    "laborers, except farm; (iv) farm laborers and foremen; and (v) service workers.\n",
    "White-collar occupations are (i) professional, technical, and kindred; (ii) managers,\n",
    "officials, and proprietors; (iii) sales workers; (iv) farmers and farm managers; and\n",
    "(v) clerical and kindred.\n",
    "\n",
    "This works well until the CPS 70 codes are no longer provided in the NLSY and subsituted with the 2000 codes."
   ]
  },
  {
   "cell_type": "markdown",
   "metadata": {},
   "source": [
    "### Solution 1\n",
    "The Integrated Public Use Microdata Series (IPUMS-USA) has spent a lot of effort in creating crosswalks between the decennial occupation classification systems of the CPS. Bridging two major classification changes in 1980 and 2000, they decided to create a variable (OCC1990) which can be used by researcher to analyse longer periods of occupational data. \n",
    "\n",
    "**Literature**:\n",
    "\n",
    "- Here is an [essay](https://usa.ipums.org/usa/chapter4/chapter4.shtml) on the subject\n",
    "- [BLS working paper](../documents/literature/proposed_category_system_1960_2000_census_occupations.pdf) on a consistent category system from 1960 to 2000\n",
    "\n",
    "A crosswalk over all decennial systems from 1950 to 2000 can be found on this [page](https://usa.ipums.org/usa/volii/occ_ind.shtml) and downloaded [here](https://usa.ipums.org/usa/resources/volii/documents/occ1990_xwalk.xls).\n",
    "\n",
    "**From now on, there are two possible ways to construct consistent occupations codes:**\n",
    "\n",
    "1. The crosswalk can be used to map as many categories from the 2000er system to the 1970er system. Then, the footnotes from Keane, Wolpin (1997) can be applied to the codes.\n",
    "\n",
    "    The benefits would be that the definition of blue and white collar workers is identical and does not have to be adjusted.\n",
    "    \n",
    "    The disadvantage is that there are 143 categories of the 2000_1 system which will not be mapped and 124 of the 2000_5 system. (For completeness, there are 116 and 130 unmapped categories for the 1970 codes in the 2000_1 and 2000_5 system, respectively.)\n",
    "2. One could use IPUMS OCC1990 variable to map all categories between all systems, but one has to adjust the definition of blue and white collar workers.\n",
    "\n",
    "    Some numbers:\n",
    "    - maps every category from 1970, 2000 1%, and 2000 5%\n",
    "    - comprises 396 categories, not blown up like the 2000er with ca. 500 items, more similar to 1970 with 440 items\n",
    "    \n",
    "**Then, there is also the question which 2000er category system should be used from the crosswalk**. The IPUMS website has an explanation for the difference ([source](https://usa.ipums.org/usa/volii/occ2000.shtml)):\n",
    "\n",
    "> The 2000 5% sample contains less detail than the 2000 1% sample. In the 5% sample, any category representing fewer than 10,000 people was combined with a larger, more generalized category.\n",
    "\n",
    "Since the NLSY page does not offer more information on the categories, I compared the overlapping categories and whether they are detailed in the [NLSY documentation on the 2000er system](https://www.nlsinfo.org/sites/nlsinfo.org/files/attachments/121217/att300.pdf). The NLSY 2000 codes correspond to 2000 1% codes."
   ]
  },
  {
   "cell_type": "code",
   "execution_count": null,
   "metadata": {
    "collapsed": true
   },
   "outputs": [],
   "source": [
    "import pandas as pd\n",
    "\n",
    "crosswalk = pd.read_excel('../data/external/occ_crosswalks/occ1990_xwalk.xls')\n",
    "crosswalk = crosswalk.iloc[:,[0, 1, 4, 7, 8]]\n",
    "crosswalk.columns = ['OCC1990', 'DESCRIPTION', 'CPS_1970', 'CPS_2000_1', 'CPS_2000_5']\n",
    "# Delete headings in file\n",
    "crosswalk = crosswalk.loc[~(crosswalk.OCC1990 == '#')]"
   ]
  },
  {
   "cell_type": "code",
   "execution_count": null,
   "metadata": {
    "collapsed": true
   },
   "outputs": [],
   "source": [
    "# Look for missing connections between the systems\n",
    "# crosswalk.loc[crosswalk.CPS_2000_1.notnull()].isnull().sum()"
   ]
  },
  {
   "cell_type": "code",
   "execution_count": null,
   "metadata": {
    "collapsed": true
   },
   "outputs": [],
   "source": [
    "# View overhanging 2000 1% codes\n",
    "# crosswalk[crosswalk.CPS_2000_1.notnull() & crosswalk.CPS_2000_5.isnull()]"
   ]
  }
 ],
 "metadata": {
  "kernelspec": {
   "display_name": "Python 3",
   "language": "python",
   "name": "python3"
  },
  "language_info": {
   "codemirror_mode": {
    "name": "ipython",
    "version": 3
   },
   "file_extension": ".py",
   "mimetype": "text/x-python",
   "name": "python",
   "nbconvert_exporter": "python",
   "pygments_lexer": "ipython3",
   "version": "3.7.3"
  }
 },
 "nbformat": 4,
 "nbformat_minor": 2
}
