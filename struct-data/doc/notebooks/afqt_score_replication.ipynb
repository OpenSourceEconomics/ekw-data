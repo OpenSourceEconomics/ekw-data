{
 "cells": [
  {
   "cell_type": "markdown",
   "metadata": {},
   "source": [
    "# Replication of AFQT scores\n",
    "\n",
    "[![Binder](https://beta.mybinder.org/badge.svg)](https://beta.mybinder.org/v2/gh/structDataset/documentation/master?filepath=notebooks%2Fafqt_score_replication.ipynb)\n",
    "\n",
    "## Construction of AFQT Raw Scores\n",
    "\n",
    "Besides the ASVAB variables and AFQT_1, there are no missing values to be expected. Then we construct the AFQT raw scores as described [online](https://www.nlsinfo.org/content/cohorts/nlsy79/topical-guide/education/aptitude-achievement-intelligence-scores). Note that, we need to make an adjustment to ``numerical operations`` (see [NLSY Attachment 106, Table A](../documents/literature/nlsy79_attachment_106.pdf)) and percentiles for the raw AFQT score are taken from Table B.\n",
    "\n",
    "### Exclusion of respondents\n",
    "\n",
    "36 participants with possible altered testing conditions are excluded from the sample indicated by the variable ``R0614800``. The reason to exclude these respondents is stated in the [Profile of American Youth - 1980 Nationwide Administration of the ASVAB](../documents/literature/profile_american_youth_1980_nationwide_administration_asvab.pdf) on page 18:\n",
    "\n",
    "> Thirty-six cases were dropped from this final sample because test\n",
    "procedures had been altered for these individuals due to language problems (e.g., non-English speaking respondents) or physical and mental handicaps (e.g., blindness, cerebral palsy, and mental retardation).\n",
    "\n",
    "Besides that, variable ``R0614800`` offers additional indicators for three other conditions for which the NLSY support had only limited explanations since an unpublished NORC field report is no longer available ([original correspondence](../documents/correspondence_nlsy/nlsy_afqt_score_replication.pdf)):\n",
    "\n",
    "| Altered testing condition | Explanation |\n",
    "| :--- | :--- |\n",
    "| COMP-CONVERTED REFUSAL | Participant was hesitant to take ASVAB but were later convinced by instructors. |\n",
    "| COMP-PROBLEM REPORTED | No explanation. |\n",
    "| COMP-SPANISH INSTR. CARDS | The test was taken with Spanish instructions. |\n",
    "| COMP-PROCEDURES ALTERED | Testing procedures were altered for the participants due to language problems, physical or mental handicaps |"
   ]
  },
  {
   "cell_type": "code",
   "execution_count": 1,
   "metadata": {
    "collapsed": true
   },
   "outputs": [],
   "source": [
    "import os\n",
    "\n",
    "import numpy as np\n",
    "import pandas as pd"
   ]
  },
  {
   "cell_type": "code",
   "execution_count": 2,
   "metadata": {
    "ExecuteTime": {
     "end_time": "2017-03-20T11:58:43.444000",
     "start_time": "2017-03-20T11:58:42.208000"
    },
    "collapsed": true
   },
   "outputs": [],
   "source": [
    "afqt = pd.read_csv(os.path.join('..', 'data', 'external',\n",
    "                                'afqt', 'afqt.csv'),\n",
    "                   index_col=False, header=0)\n",
    "\n",
    "column_labels = dict()\n",
    "column_labels['R0000100'] = 'IDENTIFIER'\n",
    "\n",
    "column_labels['R0614800'] = 'ASVAB_NORMAL_ALTERED_TESTING'\n",
    "column_labels['R0615100'] = 'ASVAB_ARITHMETIC_REASONING'\n",
    "column_labels['R0615200'] = 'ASVAB_WORD_KNOWLEDGE'\n",
    "column_labels['R0615300'] = 'ASVAB_PARAGRAPH_COMPREHENSION'\n",
    "column_labels['R0615400'] = 'ASVAB_NUMERICAL_OPERATIONS'\n",
    "column_labels['R0618200'] = 'AFQT_1'\n",
    "\n",
    "afqt.rename(columns=column_labels, inplace=True)"
   ]
  },
  {
   "cell_type": "code",
   "execution_count": 3,
   "metadata": {
    "ExecuteTime": {
     "end_time": "2017-03-20T11:58:44.449000",
     "start_time": "2017-03-20T11:58:44.168000"
    },
    "collapsed": true
   },
   "outputs": [],
   "source": [
    "# Just making sure ...\n",
    "assert afqt['IDENTIFIER'].isnull().any() == False\n",
    "\n",
    "# Let me now deal with missing values ...\n",
    "for label in [i for i in afqt if i.startswith('ASVAB')] + ['AFQT_1']:\n",
    "    cond = afqt[label] < 0\n",
    "    afqt.loc[cond, label] = np.nan\n",
    "\n",
    "# Adjust the score of ``numerical operation`` according to the NLSY\n",
    "# attachment 106\n",
    "afqt.loc[afqt.ASVAB_NUMERICAL_OPERATIONS >=\n",
    "         48, 'ASVAB_NUMERICAL_OPERATIONS'] = 50\n",
    "adjust_no = {\n",
    "    0: 0, 1: 0, 2: 1, 3: 2, 7: 8, 8: 9, 9: 10, 10: 11, 11: 12, 12: 14,\n",
    "    13: 15, 14: 16, 15: 17, 16: 18, 17: 19, 18: 21, 19: 22, 20: 23, 21: 24,\n",
    "    22: 25, 23: 26, 24: 27, 25: 28, 26: 29, 27: 30, 28: 31, 29: 33, 30: 34,\n",
    "    31: 35, 32: 36, 33: 37, 34: 38, 35: 39, 36: 39, 37: 40, 38: 41, 39: 42,\n",
    "    40: 43, 41: 44, 42: 45, 43: 46, 44: 47, 45: 48, 46: 49, 47: 49\n",
    "}\n",
    "afqt.ASVAB_NUMERICAL_OPERATIONS.replace(adjust_no, inplace=True)\n",
    "\n",
    "# Now we construct the AFQT raw score based on the instructions from the\n",
    "# NLSY website.\n",
    "afqt['AFQT_RAW'] = 0.00\n",
    "afqt['AFQT_RAW'] += afqt['ASVAB_ARITHMETIC_REASONING']\n",
    "afqt['AFQT_RAW'] += afqt['ASVAB_WORD_KNOWLEDGE']\n",
    "afqt['AFQT_RAW'] += afqt['ASVAB_PARAGRAPH_COMPREHENSION']\n",
    "afqt['AFQT_RAW'] += 0.5 * afqt['ASVAB_NUMERICAL_OPERATIONS']\n",
    "\n",
    "# Match ``AFQT_RAW`` to percentile of distribution\n",
    "afqt.loc[afqt.AFQT_RAW <= 23.5, 'AFQT_PERCENTILES'] = 1\n",
    "afqt.loc[(afqt.AFQT_RAW > 23.5) & (\n",
    "    afqt.AFQT_RAW <= 27), 'AFQT_PERCENTILES'] = 2\n",
    "afqt.loc[(afqt.AFQT_RAW > 27) & (\n",
    "    afqt.AFQT_RAW <= 29.5), 'AFQT_PERCENTILES'] = 3\n",
    "afqt.loc[(afqt.AFQT_RAW > 29.5) & (\n",
    "    afqt.AFQT_RAW <= 32), 'AFQT_PERCENTILES'] = 4\n",
    "afqt.loc[(afqt.AFQT_RAW > 32) & (\n",
    "    afqt.AFQT_RAW <= 34), 'AFQT_PERCENTILES'] = 5\n",
    "afqt.loc[(afqt.AFQT_RAW > 34) & (\n",
    "    afqt.AFQT_RAW <= 36.5), 'AFQT_PERCENTILES'] = 6\n",
    "afqt.loc[(afqt.AFQT_RAW > 36.5) & (\n",
    "    afqt.AFQT_RAW <= 38), 'AFQT_PERCENTILES'] = 7\n",
    "afqt.loc[(afqt.AFQT_RAW > 38) & (\n",
    "    afqt.AFQT_RAW <= 40), 'AFQT_PERCENTILES'] = 8\n",
    "afqt.loc[(afqt.AFQT_RAW > 40) & (\n",
    "    afqt.AFQT_RAW <= 41), 'AFQT_PERCENTILES'] = 9\n",
    "afqt.loc[(afqt.AFQT_RAW > 41) & (\n",
    "    afqt.AFQT_RAW <= 42.5), 'AFQT_PERCENTILES'] = 10\n",
    "afqt.loc[(afqt.AFQT_RAW > 42.5) & (\n",
    "    afqt.AFQT_RAW <= 44), 'AFQT_PERCENTILES'] = 11\n",
    "afqt.loc[(afqt.AFQT_RAW > 44) & (\n",
    "    afqt.AFQT_RAW <= 45.5), 'AFQT_PERCENTILES'] = 12\n",
    "afqt.loc[(afqt.AFQT_RAW > 45.5) & (\n",
    "    afqt.AFQT_RAW <= 47), 'AFQT_PERCENTILES'] = 13\n",
    "afqt.loc[(afqt.AFQT_RAW > 47) & (\n",
    "    afqt.AFQT_RAW <= 48.5), 'AFQT_PERCENTILES'] = 14\n",
    "afqt.loc[(afqt.AFQT_RAW > 48.5) & (\n",
    "    afqt.AFQT_RAW <= 49.5), 'AFQT_PERCENTILES'] = 15\n",
    "afqt.loc[(afqt.AFQT_RAW > 49.5) & (\n",
    "    afqt.AFQT_RAW <= 51), 'AFQT_PERCENTILES'] = 16\n",
    "afqt.loc[(afqt.AFQT_RAW > 51) & (\n",
    "    afqt.AFQT_RAW <= 52.5), 'AFQT_PERCENTILES'] = 17\n",
    "for i in range(18, 29):\n",
    "    afqt.loc[(afqt.AFQT_RAW > i + 34.5) &\n",
    "             (afqt.AFQT_RAW <= i + 35.5), 'AFQT_PERCENTILES'] = i\n",
    "afqt.loc[(afqt.AFQT_RAW > 63.5) & (\n",
    "    afqt.AFQT_RAW <= 64), 'AFQT_PERCENTILES'] = 29\n",
    "afqt.loc[(afqt.AFQT_RAW > 64) & (\n",
    "    afqt.AFQT_RAW <= 65), 'AFQT_PERCENTILES'] = 30\n",
    "afqt.loc[(afqt.AFQT_RAW > 65) & (\n",
    "    afqt.AFQT_RAW <= 65.5), 'AFQT_PERCENTILES'] = 31\n",
    "afqt.loc[(afqt.AFQT_RAW > 65.5) & (\n",
    "    afqt.AFQT_RAW <= 66.5), 'AFQT_PERCENTILES'] = 32\n",
    "afqt.loc[(afqt.AFQT_RAW > 66.5) & (\n",
    "    afqt.AFQT_RAW <= 67), 'AFQT_PERCENTILES'] = 33\n",
    "afqt.loc[(afqt.AFQT_RAW > 67) & (\n",
    "    afqt.AFQT_RAW <= 67.5), 'AFQT_PERCENTILES'] = 34\n",
    "afqt.loc[(afqt.AFQT_RAW > 67.5) & (\n",
    "    afqt.AFQT_RAW <= 68.5), 'AFQT_PERCENTILES'] = 35\n",
    "afqt.loc[(afqt.AFQT_RAW > 68.5) & (\n",
    "    afqt.AFQT_RAW <= 69), 'AFQT_PERCENTILES'] = 36\n",
    "afqt.loc[(afqt.AFQT_RAW > 69) & (\n",
    "    afqt.AFQT_RAW <= 69.5), 'AFQT_PERCENTILES'] = 37\n",
    "afqt.loc[(afqt.AFQT_RAW > 69.5) & (\n",
    "    afqt.AFQT_RAW <= 70.5), 'AFQT_PERCENTILES'] = 38\n",
    "afqt.loc[(afqt.AFQT_RAW > 70.5) & (\n",
    "    afqt.AFQT_RAW <= 71), 'AFQT_PERCENTILES'] = 39\n",
    "afqt.loc[(afqt.AFQT_RAW > 71) & (\n",
    "    afqt.AFQT_RAW <= 71.5), 'AFQT_PERCENTILES'] = 40\n",
    "afqt.loc[(afqt.AFQT_RAW > 71.5) & (\n",
    "    afqt.AFQT_RAW <= 72), 'AFQT_PERCENTILES'] = 41\n",
    "afqt.loc[(afqt.AFQT_RAW > 72) & (\n",
    "    afqt.AFQT_RAW <= 73), 'AFQT_PERCENTILES'] = 42\n",
    "afqt.loc[(afqt.AFQT_RAW > 73) & (\n",
    "    afqt.AFQT_RAW <= 73.5), 'AFQT_PERCENTILES'] = 43\n",
    "afqt.loc[(afqt.AFQT_RAW > 73.5) & (\n",
    "    afqt.AFQT_RAW <= 74), 'AFQT_PERCENTILES'] = 44\n",
    "afqt.loc[(afqt.AFQT_RAW > 74) & (\n",
    "    afqt.AFQT_RAW <= 74.5), 'AFQT_PERCENTILES'] = 45\n",
    "afqt.loc[(afqt.AFQT_RAW > 74.5) & (\n",
    "    afqt.AFQT_RAW <= 75.5), 'AFQT_PERCENTILES'] = 46\n",
    "afqt.loc[(afqt.AFQT_RAW > 75.5) & (\n",
    "    afqt.AFQT_RAW <= 76), 'AFQT_PERCENTILES'] = 47\n",
    "afqt.loc[(afqt.AFQT_RAW > 76) & (\n",
    "    afqt.AFQT_RAW <= 76.5), 'AFQT_PERCENTILES'] = 48\n",
    "afqt.loc[(afqt.AFQT_RAW > 76.5) & (\n",
    "    afqt.AFQT_RAW <= 77.5), 'AFQT_PERCENTILES'] = 49\n",
    "for i, j in enumerate(range(50, 61), 1):\n",
    "    afqt.loc[(afqt.AFQT_RAW > j + 28 - 0.5 * i) &\n",
    "             (afqt.AFQT_RAW <= j + 28 - 0.5 * (i-1)), 'AFQT_PERCENTILES'] = j\n",
    "for i, j in enumerate(range(62, 94), 1):\n",
    "    afqt.loc[(afqt.AFQT_RAW > j + 21.5 - 0.5 * i) &\n",
    "             (afqt.AFQT_RAW <= j + 21.5  - 0.5 * (i-1)), 'AFQT_PERCENTILES'] = j\n",
    "afqt.loc[(afqt.AFQT_RAW > 99) & (\n",
    "    afqt.AFQT_RAW <= 100), 'AFQT_PERCENTILES'] = 94\n",
    "for i, j in enumerate(range(95, 98), 1):\n",
    "    afqt.loc[(afqt.AFQT_RAW > j + 5.5 - 0.5 * i) &\n",
    "             (afqt.AFQT_RAW <= j + 5.5 - 0.5 * (i-1)), 'AFQT_PERCENTILES'] = j\n",
    "afqt.loc[(afqt.AFQT_RAW > 101.5) & (\n",
    "    afqt.AFQT_RAW <= 102.5), 'AFQT_PERCENTILES'] = 98\n",
    "afqt.loc[(afqt.AFQT_RAW > 102.5) & (\n",
    "    afqt.AFQT_RAW <= 105), 'AFQT_PERCENTILES'] = 99\n",
    "\n",
    "# Set AFQT scores to NaN for respondents with altered testing conditions\n",
    "afqt.loc[\n",
    "    afqt.ASVAB_NORMAL_ALTERED_TESTING == 67, 'AFQT_PERCENTILES'] = np.nan"
   ]
  },
  {
   "cell_type": "markdown",
   "metadata": {},
   "source": [
    "As a test, we compare the percentiles of our measure to AFQT_1. Both should be identical."
   ]
  },
  {
   "cell_type": "code",
   "execution_count": 4,
   "metadata": {
    "ExecuteTime": {
     "end_time": "2017-03-20T11:49:15.733000",
     "start_time": "2017-03-20T11:49:15.584000"
    },
    "collapsed": true
   },
   "outputs": [],
   "source": [
    "# NaNs in the same location are considered equal\n",
    "try:\n",
    "    assert afqt['AFQT_PERCENTILES'].equals(afqt['AFQT_1'])\n",
    "except AssertionError:\n",
    "    print('The two colums are not equal at this point.')"
   ]
  },
  {
   "cell_type": "code",
   "execution_count": null,
   "metadata": {
    "collapsed": true
   },
   "outputs": [],
   "source": []
  }
 ],
 "metadata": {
  "anaconda-cloud": {},
  "kernelspec": {
   "display_name": "Python 3",
   "language": "python",
   "name": "python3"
  },
  "language_info": {
   "codemirror_mode": {
    "name": "ipython",
    "version": 3
   },
   "file_extension": ".py",
   "mimetype": "text/x-python",
   "name": "python",
   "nbconvert_exporter": "python",
   "pygments_lexer": "ipython3",
   "version": "3.7.3"
  },
  "latex_envs": {
   "bibliofile": "biblio.bib",
   "cite_by": "apalike",
   "current_citInitial": 1,
   "eqLabelWithNumbers": true,
   "eqNumInitial": 0
  }
 },
 "nbformat": 4,
 "nbformat_minor": 2
}
