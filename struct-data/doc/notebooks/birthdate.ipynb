{
 "cells": [
  {
   "cell_type": "markdown",
   "metadata": {
    "raw_mimetype": "text/restructuredtext"
   },
   "source": [
    "# What is correct ``MONTH/YEAR_OF_BIRTH`` variable\n",
    "\n",
    "[![Binder](https://beta.mybinder.org/badge.svg)](https://beta.mybinder.org/v2/gh/structDataset/documentation/master?filepath=notebooks%2Fbirthdate.ipynb)\n",
    "\n",
    "There are two pairs of month, year variables ([Example with reference numbers](https://www.nlsinfo.org/content/getting-started/intro-to-the-nls/tutorials/tutorial-variable-search-nls-investigator/page/0/1)):\n",
    "\n",
    "1. R00003.00 and R00005.00 (from 1979)\n",
    "2. R04101.00 and R04103.00 (from 1981)\n",
    "\n",
    "Under *Important information about using age data* in the [user guide for age](https://www.nlsinfo.org/content/cohorts/nlsy79/topical-guide/household/age):\n",
    "\n",
    "> The 1981 birth dates should be used to determine age with the 1979 dates used only as a backup. Differences between 1979 and 1981 birth dates remained for approximately 200-250 respondents after the 1981 fielding; editing on a case-by-case basis was performed by CHRR staff on only the 1981 variable."
   ]
  },
  {
   "cell_type": "code",
   "execution_count": 1,
   "metadata": {
    "ExecuteTime": {
     "end_time": "2017-03-20T11:58:43.444000",
     "start_time": "2017-03-20T11:58:42.208000"
    },
    "collapsed": true
   },
   "outputs": [],
   "source": [
    "import os\n",
    "\n",
    "import numpy as np\n",
    "import pandas as pd"
   ]
  },
  {
   "cell_type": "code",
   "execution_count": 2,
   "metadata": {
    "ExecuteTime": {
     "end_time": "2017-03-20T11:58:43.487000",
     "start_time": "2017-03-20T11:58:43.447000"
    },
    "collapsed": true
   },
   "outputs": [],
   "source": [
    "afqt = pd.read_csv(os.path.join('..', 'data', 'external',\n",
    "                                'afqt', 'afqt.csv'),\n",
    "                   index_col=False, header=0)\n",
    "\n",
    "column_labels = dict()\n",
    "column_labels['R0000100'] = 'IDENTIFIER'\n",
    "column_labels['R0000500'] = 'YEAR_OF_BIRTH_1979'\n",
    "column_labels['R0000300'] = 'MONTH_OF_BIRTH_1979'\n",
    "\n",
    "column_labels['R0410100'] = 'MONTH_OF_BIRTH_1981'\n",
    "column_labels['R0410300'] = 'YEAR_OF_BIRTH_1981'\n",
    "\n",
    "afqt.rename(columns=column_labels, inplace=True)"
   ]
  },
  {
   "cell_type": "code",
   "execution_count": 3,
   "metadata": {
    "collapsed": true
   },
   "outputs": [],
   "source": [
    "### Construct MONTH_OF_BIRTH and YEAR_OF_BIRTH\n",
    "# Replace -5 values with np.nan\n",
    "afqt.loc[\n",
    "    afqt.YEAR_OF_BIRTH_1981 == -5, 'YEAR_OF_BIRTH_1981'] = np.nan\n",
    "afqt.loc[\n",
    "    afqt.MONTH_OF_BIRTH_1981 == -5, 'MONTH_OF_BIRTH_1981'] = np.nan\n",
    "\n",
    "# Replace missings in 1981 with the values from the 1979 survey\n",
    "afqt.loc[afqt.YEAR_OF_BIRTH_1981.isnull(),\n",
    "         'YEAR_OF_BIRTH_1981'] = afqt.YEAR_OF_BIRTH_1979\n",
    "afqt.loc[afqt.MONTH_OF_BIRTH_1981.isnull(),\n",
    "         'MONTH_OF_BIRTH_1981'] = afqt.MONTH_OF_BIRTH_1979\n",
    "\n",
    "# Now cast to integers, also a checks for nans\n",
    "afqt['MONTH_OF_BIRTH'] = afqt.MONTH_OF_BIRTH_1981.astype(int)\n",
    "afqt['YEAR_OF_BIRTH'] = afqt.YEAR_OF_BIRTH_1981.astype(int)\n",
    "\n",
    "# Drop old variables\n",
    "afqt.drop([\n",
    "    i for i in afqt.keys() if i.startswith('MONTH_OF_BIRTH_') |\n",
    "    i.startswith('YEAR_OF_BIRTH_')], axis=1, inplace=True)"
   ]
  }
 ],
 "metadata": {
  "anaconda-cloud": {},
  "celltoolbar": "Raw Cell Format",
  "kernelspec": {
   "display_name": "Python 3",
   "language": "python",
   "name": "python3"
  },
  "language_info": {
   "codemirror_mode": {
    "name": "ipython",
    "version": 3
   },
   "file_extension": ".py",
   "mimetype": "text/x-python",
   "name": "python",
   "nbconvert_exporter": "python",
   "pygments_lexer": "ipython3",
   "version": "3.7.3"
  },
  "latex_envs": {
   "bibliofile": "biblio.bib",
   "cite_by": "apalike",
   "current_citInitial": 1,
   "eqLabelWithNumbers": true,
   "eqNumInitial": 0
  }
 },
 "nbformat": 4,
 "nbformat_minor": 2
}
