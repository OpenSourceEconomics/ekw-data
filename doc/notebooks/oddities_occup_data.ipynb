{
 "cells": [
  {
   "cell_type": "markdown",
   "metadata": {},
   "source": [
    "## Oddities in occupational Data\n",
    "\n",
    "First, there exist two kinds of variables which report occupation categories for jobs held by an individual, *CPSOCC70* and *OCCALL-EMP.#*. (All the information regarding this point can be found in the [topical guide on employment for jobs & employers](https://www.nlsinfo.org/content/cohorts/nlsy79/topical-guide/employment/jobs-employers/page/0/1/#cps1).)\n",
    "\n",
    "*CPSOCC70* reports the CPS job, current or most recent employer, of the respondent which is one selected job from all the jobs the respondent had held between interviews. The question to identify the CPS job varied by interview mode. From 1979-92, the question was posed like this:\n",
    "\n",
    "> For whom did you work last (week)?  IF MORE THAN ONE EMPLOYER, PROBE:  for whom did you work the most hours during the last week (you worked)?\n",
    "\n",
    "If answers were ambiguous because the respondent did not work last week, had more employers, etc., calls were made according to [Table 2](https://www.nlsinfo.org/content/cohorts/nlsy79/topical-guide/employment/jobs-employers/page/0/1/#table2).\n",
    "\n",
    "*OCCALL-EMP.#* records answers to the Employer Supplement ([ES from 1980](https://www.nlsinfo.org/sites/nlsinfo.org/files/attachments/121212/NLSY79_1980EmpSupp.pdf)) for each job held by the respondent since the last interview. Although information on all jobs is collected, only the five jobs are reported. Note that, numbers concerning hours worked, etc. report numbers for all jobs held.\n",
    "\n",
    "Here are some notes on how both variables relate to each other:\n",
    "- 1979: CPS job is Job #1\n",
    "- 1980-92: Jobs were collected in reverse chronological order meaning Job #1 is CPS job most of the time but not always\n",
    "- 1993-: Due to mechanis of [CAPI interviews](https://www.nlsinfo.org/content/cohorts/nlsy79/other-documentation/codebook-supplement/nlsy79-appendix-13-development), Job #1 is always CPS job\n",
    "\n",
    "\n",
    "**Question**: There exists a set of variables grouped under *OCALL-EMP* for all survey years. Most of the time it has five entries, one for each of 1 - 5 jobs. However, in 1979/1993 it only has four entries and the occupation for job #1 is missing. Do we find that information somewhere else?\n",
    "\n",
    "**Answer**: Most of the explanation can be taken from above. In 1979, CPS job always coincides with Job #1. Due to mechanics of CAPI interview, Job #1 is the same as CPS jo since 1993, but only since 1994 the naming convention was changed ([Source](https://www.nlsinfo.org/content/cohorts/nlsy79/topical-guide/employment/jobs-employers)):\n",
    "\n",
    "> Until 1994, the current or most recent employer, called the \"CPS employer,\" is differentiated in the data set from other employers for whom the respondent reported working since the last interview by title (that is, start date for CPS job, start date for Job #2, start date for Job #3, and so forth). Beginning in 1994, CPS job information is simply labeled as \"job #1\" because job specific information is all collected in the Employer Supplement.\n",
    "\n",
    "**Question**: What exactly is the role of *CPSSOCC70*, which is available for the years 1979-1993 in addition to *OCCALL-EMP*? Could most recent job be one of the job 1-5 but also a #6, for example? \n",
    "\n",
    "**Answer**: Should be answered by the introduction."
   ]
  }
 ],
 "metadata": {
  "kernelspec": {
   "display_name": "Python 3",
   "language": "python",
   "name": "python3"
  },
  "language_info": {
   "codemirror_mode": {
    "name": "ipython",
    "version": 3
   },
   "file_extension": ".py",
   "mimetype": "text/x-python",
   "name": "python",
   "nbconvert_exporter": "python",
   "pygments_lexer": "ipython3",
   "version": "3.7.3"
  }
 },
 "nbformat": 4,
 "nbformat_minor": 2
}
